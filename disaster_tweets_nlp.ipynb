{
 "cells": [
  {
   "cell_type": "markdown",
   "id": "d0cca674",
   "metadata": {},
   "source": [
    "# Disaster Tweets Classification\n",
    "\n",
    "Grant Novota\n",
    "\n",
    "This notebook walks through the process of classifying disaster-related Tweets using various Natural Language Processing (NLP) and machine learning techniques.\n",
    "\n",
    "---\n",
    "\n",
    "## 1. Brief Description of the Problem and Data\n",
    "\n",
    "### 1.1 Problem Overview\n",
    "\n",
    "In crisis or disaster situations, individuals often post urgent information on Twitter in real-time. However, tweets can be ambiguous — some may mention a disaster metaphorically (e.g., “My phone is **ablaze** with notifications!”), while others report actual incidents. Our goal is to train a machine learning model that can distinguish between _actual_ disaster tweets and _non-disaster_ tweets.\n",
    "\n",
    "### 1.2 Dataset Details\n",
    "\n",
    "The dataset contains around 10,000 labeled tweets with the following columns:\n",
    "\n",
    "- **id**: Unique identifier for each tweet.\n",
    "- **keyword**: A keyword from the tweet (where applicable).\n",
    "- **location**: The user-specified location (may be blank or missing).\n",
    "- **text**: The tweet text.\n",
    "- **target**: Binary label indicating whether the tweet is about a real disaster (`1`) or not (`0`)."
   ]
  },
  {
   "cell_type": "markdown",
   "id": "2b99e115",
   "metadata": {},
   "source": [
    "## 2. Exploratory Data Analysis (EDA) — Inspect, Visualize and Clean the Data\n",
    "\n",
    "In this section, we inspect the data to understand its shape, observe missing values, and perform preliminary visualizations. This helps guide our cleaning and modeling strategies."
   ]
  },
  {
   "cell_type": "code",
   "execution_count": null,
   "id": "5aebedf1",
   "metadata": {
    "_cell_guid": "b1076dfc-b9ad-4769-8c92-a6c4dae69d19",
    "_uuid": "8f2839f25d086af736a60e9eeb907d3b93b6e0e5",
    "execution": {
     "iopub.execute_input": "2025-02-26T10:38:39.296207Z",
     "iopub.status.busy": "2025-02-26T10:38:39.295799Z",
     "iopub.status.idle": "2025-02-26T10:38:40.267425Z",
     "shell.execute_reply": "2025-02-26T10:38:40.266235Z"
    },
    "papermill": {
     "duration": 0.982833,
     "end_time": "2025-02-26T10:38:40.269608",
     "exception": false,
     "start_time": "2025-02-26T10:38:39.286775",
     "status": "completed"
    },
    "tags": []
   },
   "outputs": [
    {
     "name": "stdout",
     "output_type": "stream",
     "text": [
      "/kaggle/input/nlp-getting-started/sample_submission.csv\n",
      "/kaggle/input/nlp-getting-started/train.csv\n",
      "/kaggle/input/nlp-getting-started/test.csv\n"
     ]
    }
   ],
   "source": [
    "import numpy as np\n",
    "import pandas as pd\n",
    "import matplotlib.pyplot as plt\n",
    "import os\n",
    "\n",
    "# This loop checks for available input files in the Kaggle environment or local environment.\n",
    "for dirname, _, filenames in os.walk('/kaggle/input'):\n",
    "    for filename in filenames:\n",
    "        print(os.path.join(dirname, filename))"
   ]
  },
  {
   "cell_type": "code",
   "execution_count": null,
   "id": "f019800d",
   "metadata": {
    "execution": {
     "iopub.execute_input": "2025-02-26T10:38:40.286858Z",
     "iopub.status.busy": "2025-02-26T10:38:40.286149Z",
     "iopub.status.idle": "2025-02-26T10:38:43.254054Z",
     "shell.execute_reply": "2025-02-26T10:38:43.252951Z"
    },
    "papermill": {
     "duration": 2.979208,
     "end_time": "2025-02-26T10:38:43.256210",
     "exception": false,
     "start_time": "2025-02-26T10:38:40.277002",
     "status": "completed"
    },
    "tags": []
   },
   "outputs": [],
   "source": [
    "import nltk\n",
    "from nltk.corpus import stopwords\n",
    "from nltk.stem import PorterStemmer\n",
    "import re\n",
    "\n",
    "from sklearn.feature_extraction.text import TfidfVectorizer\n",
    "from sklearn.model_selection import train_test_split\n",
    "from sklearn.ensemble import RandomForestClassifier\n",
    "from sklearn.svm import SVC\n",
    "from xgboost import XGBClassifier\n",
    "from sklearn.linear_model import LogisticRegression\n",
    "from sklearn.metrics import accuracy_score\n",
    "from scipy.sparse import hstack"
   ]
  },
  {
   "cell_type": "code",
   "execution_count": null,
   "id": "4a3279ac",
   "metadata": {
    "execution": {
     "iopub.execute_input": "2025-02-26T10:38:43.272446Z",
     "iopub.status.busy": "2025-02-26T10:38:43.271933Z",
     "iopub.status.idle": "2025-02-26T10:38:43.455329Z",
     "shell.execute_reply": "2025-02-26T10:38:43.454193Z"
    },
    "papermill": {
     "duration": 0.193864,
     "end_time": "2025-02-26T10:38:43.457078",
     "exception": false,
     "start_time": "2025-02-26T10:38:43.263214",
     "status": "completed"
    },
    "tags": []
   },
   "outputs": [
    {
     "name": "stdout",
     "output_type": "stream",
     "text": [
      "[nltk_data] Downloading package punkt to /usr/share/nltk_data...\n",
      "[nltk_data]   Package punkt is already up-to-date!\n",
      "[nltk_data] Downloading package stopwords to /usr/share/nltk_data...\n",
      "[nltk_data]   Unzipping corpora/stopwords.zip.\n"
     ]
    },
    {
     "data": {
      "text/plain": [
       "True"
      ]
     },
     "execution_count": 3,
     "metadata": {},
     "output_type": "execute_result"
    }
   ],
   "source": [
    "# Download necessary NLTK data\n",
    "nltk.download('punkt')\n",
    "nltk.download('stopwords')"
   ]
  },
  {
   "cell_type": "code",
   "execution_count": null,
   "id": "63917c3a",
   "metadata": {
    "execution": {
     "iopub.execute_input": "2025-02-26T10:38:43.472610Z",
     "iopub.status.busy": "2025-02-26T10:38:43.472207Z",
     "iopub.status.idle": "2025-02-26T10:38:43.551304Z",
     "shell.execute_reply": "2025-02-26T10:38:43.550155Z"
    },
    "papermill": {
     "duration": 0.089027,
     "end_time": "2025-02-26T10:38:43.553311",
     "exception": false,
     "start_time": "2025-02-26T10:38:43.464284",
     "status": "completed"
    },
    "tags": []
   },
   "outputs": [],
   "source": [
    "# Load train and test datasets\n",
    "df = pd.read_csv('/kaggle/input/nlp-getting-started/train.csv')\n",
    "df_test = pd.read_csv('/kaggle/input/nlp-getting-started/test.csv')"
   ]
  },
  {
   "cell_type": "markdown",
   "id": "b530afa2",
   "metadata": {},
   "source": [
    "### 2.1 Initial Look at the Data"
   ]
  },
  {
   "cell_type": "code",
   "execution_count": 5,
   "id": "2b1c2251",
   "metadata": {
    "execution": {
     "iopub.execute_input": "2025-02-26T10:38:43.569045Z",
     "iopub.status.busy": "2025-02-26T10:38:43.568631Z",
     "iopub.status.idle": "2025-02-26T10:38:43.593141Z",
     "shell.execute_reply": "2025-02-26T10:38:43.592101Z"
    },
    "papermill": {
     "duration": 0.034233,
     "end_time": "2025-02-26T10:38:43.594929",
     "exception": false,
     "start_time": "2025-02-26T10:38:43.560696",
     "status": "completed"
    },
    "tags": []
   },
   "outputs": [
    {
     "data": {
      "text/html": [
       "<div>\n",
       "<style scoped>\n",
       "    .dataframe tbody tr th:only-of-type {\n",
       "        vertical-align: middle;\n",
       "    }\n",
       "\n",
       "    .dataframe tbody tr th {\n",
       "        vertical-align: top;\n",
       "    }\n",
       "\n",
       "    .dataframe thead th {\n",
       "        text-align: right;\n",
       "    }\n",
       "</style>\n",
       "<table border=\"1\" class=\"dataframe\">\n",
       "  <thead>\n",
       "    <tr style=\"text-align: right;\">\n",
       "      <th></th>\n",
       "      <th>id</th>\n",
       "      <th>keyword</th>\n",
       "      <th>location</th>\n",
       "      <th>text</th>\n",
       "      <th>target</th>\n",
       "    </tr>\n",
       "  </thead>\n",
       "  <tbody>\n",
       "    <tr>\n",
       "      <th>0</th>\n",
       "      <td>1</td>\n",
       "      <td>NaN</td>\n",
       "      <td>NaN</td>\n",
       "      <td>Our Deeds are the Reason of this #earthquake M...</td>\n",
       "      <td>1</td>\n",
       "    </tr>\n",
       "    <tr>\n",
       "      <th>1</th>\n",
       "      <td>4</td>\n",
       "      <td>NaN</td>\n",
       "      <td>NaN</td>\n",
       "      <td>Forest fire near La Ronge Sask. Canada</td>\n",
       "      <td>1</td>\n",
       "    </tr>\n",
       "    <tr>\n",
       "      <th>2</th>\n",
       "      <td>5</td>\n",
       "      <td>NaN</td>\n",
       "      <td>NaN</td>\n",
       "      <td>All residents asked to 'shelter in place' are ...</td>\n",
       "      <td>1</td>\n",
       "    </tr>\n",
       "    <tr>\n",
       "      <th>3</th>\n",
       "      <td>6</td>\n",
       "      <td>NaN</td>\n",
       "      <td>NaN</td>\n",
       "      <td>13,000 people receive #wildfires evacuation or...</td>\n",
       "      <td>1</td>\n",
       "    </tr>\n",
       "    <tr>\n",
       "      <th>4</th>\n",
       "      <td>7</td>\n",
       "      <td>NaN</td>\n",
       "      <td>NaN</td>\n",
       "      <td>Just got sent this photo from Ruby #Alaska as ...</td>\n",
       "      <td>1</td>\n",
       "    </tr>\n",
       "  </tbody>\n",
       "</table>\n",
       "</div>"
      ],
      "text/plain": [
       "   id keyword location                                               text  \\\n",
       "0   1     NaN      NaN  Our Deeds are the Reason of this #earthquake M...   \n",
       "1   4     NaN      NaN             Forest fire near La Ronge Sask. Canada   \n",
       "2   5     NaN      NaN  All residents asked to 'shelter in place' are ...   \n",
       "3   6     NaN      NaN  13,000 people receive #wildfires evacuation or...   \n",
       "4   7     NaN      NaN  Just got sent this photo from Ruby #Alaska as ...   \n",
       "\n",
       "   target  \n",
       "0       1  \n",
       "1       1  \n",
       "2       1  \n",
       "3       1  \n",
       "4       1  "
      ]
     },
     "execution_count": 5,
     "metadata": {},
     "output_type": "execute_result"
    }
   ],
   "source": [
    "df.head()"
   ]
  },
  {
   "cell_type": "code",
   "execution_count": 6,
   "id": "48b44074",
   "metadata": {
    "execution": {
     "iopub.execute_input": "2025-02-26T10:38:43.610433Z",
     "iopub.status.busy": "2025-02-26T10:38:43.610036Z",
     "iopub.status.idle": "2025-02-26T10:38:43.638298Z",
     "shell.execute_reply": "2025-02-26T10:38:43.637164Z"
    },
    "papermill": {
     "duration": 0.038222,
     "end_time": "2025-02-26T10:38:43.640363",
     "exception": false,
     "start_time": "2025-02-26T10:38:43.602141",
     "status": "completed"
    },
    "tags": []
   },
   "outputs": [
    {
     "name": "stdout",
     "output_type": "stream",
     "text": [
      "<class 'pandas.core.frame.DataFrame'>\n",
      "RangeIndex: 7613 entries, 0 to 7612\n",
      "Data columns (total 5 columns):\n",
      " #   Column    Non-Null Count  Dtype \n",
      "---  ------    --------------  ----- \n",
      " 0   id        7613 non-null   int64 \n",
      " 1   keyword   7552 non-null   object\n",
      " 2   location  5080 non-null   object\n",
      " 3   text      7613 non-null   object\n",
      " 4   target    7613 non-null   int64 \n",
      "dtypes: int64(2), object(3)\n",
      "memory usage: 297.5+ KB\n"
     ]
    }
   ],
   "source": [
    "df.info()"
   ]
  },
  {
   "cell_type": "code",
   "execution_count": 7,
   "id": "0273f7d3",
   "metadata": {
    "execution": {
     "iopub.execute_input": "2025-02-26T10:38:43.656357Z",
     "iopub.status.busy": "2025-02-26T10:38:43.655966Z",
     "iopub.status.idle": "2025-02-26T10:38:43.676250Z",
     "shell.execute_reply": "2025-02-26T10:38:43.675145Z"
    },
    "papermill": {
     "duration": 0.030526,
     "end_time": "2025-02-26T10:38:43.678335",
     "exception": false,
     "start_time": "2025-02-26T10:38:43.647809",
     "status": "completed"
    },
    "tags": []
   },
   "outputs": [
    {
     "data": {
      "text/html": [
       "<div>\n",
       "<style scoped>\n",
       "    .dataframe tbody tr th:only-of-type {\n",
       "        vertical-align: middle;\n",
       "    }\n",
       "\n",
       "    .dataframe tbody tr th {\n",
       "        vertical-align: top;\n",
       "    }\n",
       "\n",
       "    .dataframe thead th {\n",
       "        text-align: right;\n",
       "    }\n",
       "</style>\n",
       "<table border=\"1\" class=\"dataframe\">\n",
       "  <thead>\n",
       "    <tr style=\"text-align: right;\">\n",
       "      <th></th>\n",
       "      <th>id</th>\n",
       "      <th>target</th>\n",
       "    </tr>\n",
       "  </thead>\n",
       "  <tbody>\n",
       "    <tr>\n",
       "      <th>count</th>\n",
       "      <td>7613.000000</td>\n",
       "      <td>7613.00000</td>\n",
       "    </tr>\n",
       "    <tr>\n",
       "      <th>mean</th>\n",
       "      <td>5441.934848</td>\n",
       "      <td>0.42966</td>\n",
       "    </tr>\n",
       "    <tr>\n",
       "      <th>std</th>\n",
       "      <td>3137.116090</td>\n",
       "      <td>0.49506</td>\n",
       "    </tr>\n",
       "    <tr>\n",
       "      <th>min</th>\n",
       "      <td>1.000000</td>\n",
       "      <td>0.00000</td>\n",
       "    </tr>\n",
       "    <tr>\n",
       "      <th>25%</th>\n",
       "      <td>2734.000000</td>\n",
       "      <td>0.00000</td>\n",
       "    </tr>\n",
       "    <tr>\n",
       "      <th>50%</th>\n",
       "      <td>5408.000000</td>\n",
       "      <td>0.00000</td>\n",
       "    </tr>\n",
       "    <tr>\n",
       "      <th>75%</th>\n",
       "      <td>8146.000000</td>\n",
       "      <td>1.00000</td>\n",
       "    </tr>\n",
       "    <tr>\n",
       "      <th>max</th>\n",
       "      <td>10873.000000</td>\n",
       "      <td>1.00000</td>\n",
       "    </tr>\n",
       "  </tbody>\n",
       "</table>\n",
       "</div>"
      ],
      "text/plain": [
       "                 id      target\n",
       "count   7613.000000  7613.00000\n",
       "mean    5441.934848     0.42966\n",
       "std     3137.116090     0.49506\n",
       "min        1.000000     0.00000\n",
       "25%     2734.000000     0.00000\n",
       "50%     5408.000000     0.00000\n",
       "75%     8146.000000     1.00000\n",
       "max    10873.000000     1.00000"
      ]
     },
     "execution_count": 7,
     "metadata": {},
     "output_type": "execute_result"
    }
   ],
   "source": [
    "df.describe()"
   ]
  },
  {
   "cell_type": "markdown",
   "id": "240d9eca",
   "metadata": {},
   "source": [
    "### 2.2 Distribution of Target Variable\n",
    "\n",
    "This shows how many tweets are labeled `1` (disaster) versus `0` (non-disaster)."
   ]
  },
  {
   "cell_type": "code",
   "execution_count": 8,
   "id": "0fdcc231",
   "metadata": {
    "execution": {
     "iopub.execute_input": "2025-02-26T10:38:43.696473Z",
     "iopub.status.busy": "2025-02-26T10:38:43.695983Z",
     "iopub.status.idle": "2025-02-26T10:38:44.079020Z",
     "shell.execute_reply": "2025-02-26T10:38:44.077866Z"
    },
    "papermill": {
     "duration": 0.394812,
     "end_time": "2025-02-26T10:38:44.080822",
     "exception": false,
     "start_time": "2025-02-26T10:38:43.686010",
     "status": "completed"
    },
    "tags": []
   },
   "outputs": [
    {
     "data": {
      "image/png": "[encoded data removed]",
      "text/plain": [
       "<Figure size 640x480 with 1 Axes>"
      ]
     },
     "metadata": {},
     "output_type": "display_data"
    }
   ],
   "source": [
    "df['target'].value_counts().plot.bar();\n"
   ]
  },
  {
   "cell_type": "markdown",
   "id": "b0480355",
   "metadata": {},
   "source": [
    "### 2.3 Checking Missing Values"
   ]
  },
  {
   "cell_type": "code",
   "execution_count": null,
   "id": "1d2edf12",
   "metadata": {
    "execution": {
     "iopub.execute_input": "2025-02-26T10:38:44.098004Z",
     "iopub.status.busy": "2025-02-26T10:38:44.097572Z",
     "iopub.status.idle": "2025-02-26T10:38:44.106572Z",
     "shell.execute_reply": "2025-02-26T10:38:44.105337Z"
    },
    "papermill": {
     "duration": 0.01956,
     "end_time": "2025-02-26T10:38:44.108315",
     "exception": false,
     "start_time": "2025-02-26T10:38:44.088755",
     "status": "completed"
    },
    "tags": []
   },
   "outputs": [
    {
     "name": "stdout",
     "output_type": "stream",
     "text": [
      "id           0.000000\n",
      "keyword      0.801261\n",
      "location    33.272035\n",
      "text         0.000000\n",
      "target       0.000000\n",
      "dtype: float64\n"
     ]
    }
   ],
   "source": [
    "# Percentage of missing values (train set)\n",
    "print((df.isnull().sum() / len(df)) * 100)"
   ]
  },
  {
   "cell_type": "code",
   "execution_count": null,
   "id": "78da5db9",
   "metadata": {
    "execution": {
     "iopub.execute_input": "2025-02-26T10:38:44.126129Z",
     "iopub.status.busy": "2025-02-26T10:38:44.125622Z",
     "iopub.status.idle": "2025-02-26T10:38:44.137790Z",
     "shell.execute_reply": "2025-02-26T10:38:44.136516Z"
    },
    "papermill": {
     "duration": 0.022581,
     "end_time": "2025-02-26T10:38:44.139489",
     "exception": false,
     "start_time": "2025-02-26T10:38:44.116908",
     "status": "completed"
    },
    "tags": []
   },
   "outputs": [
    {
     "name": "stdout",
     "output_type": "stream",
     "text": [
      "id           0.000000\n",
      "keyword      0.437586\n",
      "location    33.578996\n",
      "text         0.000000\n",
      "target       0.000000\n",
      "dtype: float64\n"
     ]
    }
   ],
   "source": [
    "# Percentage of missing values for target=0\n",
    "print((df[df['target'] == 0].isnull().sum() / len(df[df['target'] == 0])) * 100)"
   ]
  },
  {
   "cell_type": "code",
   "execution_count": null,
   "id": "5f799654",
   "metadata": {
    "execution": {
     "iopub.execute_input": "2025-02-26T10:38:44.156908Z",
     "iopub.status.busy": "2025-02-26T10:38:44.156540Z",
     "iopub.status.idle": "2025-02-26T10:38:44.166917Z",
     "shell.execute_reply": "2025-02-26T10:38:44.165532Z"
    },
    "papermill": {
     "duration": 0.021346,
     "end_time": "2025-02-26T10:38:44.168876",
     "exception": false,
     "start_time": "2025-02-26T10:38:44.147530",
     "status": "completed"
    },
    "tags": []
   },
   "outputs": [
    {
     "name": "stdout",
     "output_type": "stream",
     "text": [
      "id           0.000000\n",
      "keyword      1.284011\n",
      "location    32.864567\n",
      "text         0.000000\n",
      "target       0.000000\n",
      "dtype: float64\n"
     ]
    }
   ],
   "source": [
    "# Percentage of missing values for target=1\n",
    "print((df[df['target'] == 1].isnull().sum() / len(df[df['target'] == 1])) * 100)"
   ]
  },
  {
   "cell_type": "markdown",
   "id": "dbdbc362",
   "metadata": {},
   "source": [
    "#### Visualizing Missing Values by Target Class"
   ]
  },
  {
   "cell_type": "code",
   "execution_count": null,
   "id": "10c4f962",
   "metadata": {
    "execution": {
     "iopub.execute_input": "2025-02-26T10:38:44.186225Z",
     "iopub.status.busy": "2025-02-26T10:38:44.185844Z",
     "iopub.status.idle": "2025-02-26T10:38:44.402769Z",
     "shell.execute_reply": "2025-02-26T10:38:44.401622Z"
    },
    "papermill": {
     "duration": 0.227806,
     "end_time": "2025-02-26T10:38:44.404623",
     "exception": false,
     "start_time": "2025-02-26T10:38:44.176817",
     "status": "completed"
    },
    "tags": []
   },
   "outputs": [
    {
     "data": {
      "image/png": "[encoded data removed]",
      "text/plain": [
       "<Figure size 800x500 with 1 Axes>"
      ]
     },
     "metadata": {},
     "output_type": "display_data"
    }
   ],
   "source": [
    "# Calculate missing values percentage for target = 0\n",
    "missing_target_0 = (df[df['target'] == 0].isnull().sum() / len(df[df['target'] == 0])) * 100\n",
    "location_missing_0 = missing_target_0['location']\n",
    "keyword_missing_0 = missing_target_0['keyword']\n",
    "\n",
    "# Calculate missing values percentage for target = 1\n",
    "missing_target_1 = (df[df['target'] == 1].isnull().sum() / len(df[df['target'] == 1])) * 100\n",
    "location_missing_1 = missing_target_1['location']\n",
    "keyword_missing_1 = missing_target_1['keyword']\n",
    "\n",
    "missing_values = {\n",
    "    \"location\": [location_missing_0, location_missing_1],\n",
    "    \"keyword\": [keyword_missing_0, keyword_missing_1]\n",
    "}\n",
    "\n",
    "# X-axis labels\n",
    "categories = list(missing_values.keys())\n",
    "\n",
    "# Values for each target class\n",
    "target_0 = [missing_values[col][0] for col in categories]\n",
    "target_1 = [missing_values[col][1] for col in categories]\n",
    "\n",
    "bar_width = 0.4\n",
    "x = np.arange(len(categories))\n",
    "\n",
    "# Plot bars\n",
    "plt.figure(figsize=(8, 5))\n",
    "plt.bar(x - bar_width / 2, target_0, bar_width, color='blue', label=\"Target = 0\")\n",
    "plt.bar(x + bar_width / 2, target_1, bar_width, color='red', label=\"Target = 1\")\n",
    "\n",
    "# Labels and title\n",
    "plt.xlabel(\"Columns\")\n",
    "plt.ylabel(\"Missing Values Percentage (%)\")\n",
    "plt.title(\"Missing Values Percentage by Target Class\")\n",
    "plt.xticks(x, categories)  # Set x-axis labels\n",
    "plt.legend()\n",
    "plt.grid(axis='y', linestyle='--', alpha=0.7)\n",
    "\n",
    "plt.show()\n"
   ]
  },
  {
   "cell_type": "markdown",
   "id": "283cacfc",
   "metadata": {},
   "source": [
    "### 2.4 Unique Keywords and Locations"
   ]
  },
  {
   "cell_type": "code",
   "execution_count": 13,
   "id": "89c23fa6",
   "metadata": {
    "execution": {
     "iopub.execute_input": "2025-02-26T10:38:44.423253Z",
     "iopub.status.busy": "2025-02-26T10:38:44.422886Z",
     "iopub.status.idle": "2025-02-26T10:38:44.431993Z",
     "shell.execute_reply": "2025-02-26T10:38:44.430934Z"
    },
    "papermill": {
     "duration": 0.020565,
     "end_time": "2025-02-26T10:38:44.433841",
     "exception": false,
     "start_time": "2025-02-26T10:38:44.413276",
     "status": "completed"
    },
    "tags": []
   },
   "outputs": [
    {
     "name": "stdout",
     "output_type": "stream",
     "text": [
      "Length 222\n"
     ]
    },
    {
     "data": {
      "text/plain": [
       "array([nan, 'ablaze', 'accident', 'aftershock', 'airplane%20accident',\n",
       "       'ambulance', 'annihilated', 'annihilation', 'apocalypse',\n",
       "       'armageddon', 'army', 'arson', 'arsonist', 'attack', 'attacked',\n",
       "       'avalanche', 'battle', 'bioterror', 'bioterrorism', 'blaze',\n",
       "       'blazing', 'bleeding', 'blew%20up', 'blight', 'blizzard', 'blood',\n",
       "       'bloody', 'blown%20up', 'body%20bag', 'body%20bagging',\n",
       "       'body%20bags', 'bomb', 'bombed', 'bombing', 'bridge%20collapse',\n",
       "       'buildings%20burning', 'buildings%20on%20fire', 'burned',\n",
       "       'burning', 'burning%20buildings', 'bush%20fires', 'casualties',\n",
       "       'casualty', 'catastrophe', 'catastrophic', 'chemical%20emergency',\n",
       "       'cliff%20fall', 'collapse', 'collapsed', 'collide', 'collided',\n",
       "       'collision', 'crash', 'crashed', 'crush', 'crushed', 'curfew',\n",
       "       'cyclone', 'damage', 'danger', 'dead', 'death', 'deaths', 'debris',\n",
       "       'deluge', 'deluged', 'demolish', 'demolished', 'demolition',\n",
       "       'derail', 'derailed', 'derailment', 'desolate', 'desolation',\n",
       "       'destroy', 'destroyed', 'destruction', 'detonate', 'detonation',\n",
       "       'devastated', 'devastation', 'disaster', 'displaced', 'drought',\n",
       "       'drown', 'drowned', 'drowning', 'dust%20storm', 'earthquake',\n",
       "       'electrocute', 'electrocuted', 'emergency', 'emergency%20plan',\n",
       "       'emergency%20services', 'engulfed', 'epicentre', 'evacuate',\n",
       "       'evacuated', 'evacuation', 'explode', 'exploded', 'explosion',\n",
       "       'eyewitness', 'famine', 'fatal', 'fatalities', 'fatality', 'fear',\n",
       "       'fire', 'fire%20truck', 'first%20responders', 'flames',\n",
       "       'flattened', 'flood', 'flooding', 'floods', 'forest%20fire',\n",
       "       'forest%20fires', 'hail', 'hailstorm', 'harm', 'hazard',\n",
       "       'hazardous', 'heat%20wave', 'hellfire', 'hijack', 'hijacker',\n",
       "       'hijacking', 'hostage', 'hostages', 'hurricane', 'injured',\n",
       "       'injuries', 'injury', 'inundated', 'inundation', 'landslide',\n",
       "       'lava', 'lightning', 'loud%20bang', 'mass%20murder',\n",
       "       'mass%20murderer', 'massacre', 'mayhem', 'meltdown', 'military',\n",
       "       'mudslide', 'natural%20disaster', 'nuclear%20disaster',\n",
       "       'nuclear%20reactor', 'obliterate', 'obliterated', 'obliteration',\n",
       "       'oil%20spill', 'outbreak', 'pandemonium', 'panic', 'panicking',\n",
       "       'police', 'quarantine', 'quarantined', 'radiation%20emergency',\n",
       "       'rainstorm', 'razed', 'refugees', 'rescue', 'rescued', 'rescuers',\n",
       "       'riot', 'rioting', 'rubble', 'ruin', 'sandstorm', 'screamed',\n",
       "       'screaming', 'screams', 'seismic', 'sinkhole', 'sinking', 'siren',\n",
       "       'sirens', 'smoke', 'snowstorm', 'storm', 'stretcher',\n",
       "       'structural%20failure', 'suicide%20bomb', 'suicide%20bomber',\n",
       "       'suicide%20bombing', 'sunk', 'survive', 'survived', 'survivors',\n",
       "       'terrorism', 'terrorist', 'threat', 'thunder', 'thunderstorm',\n",
       "       'tornado', 'tragedy', 'trapped', 'trauma', 'traumatised',\n",
       "       'trouble', 'tsunami', 'twister', 'typhoon', 'upheaval',\n",
       "       'violent%20storm', 'volcano', 'war%20zone', 'weapon', 'weapons',\n",
       "       'whirlwind', 'wild%20fires', 'wildfire', 'windstorm', 'wounded',\n",
       "       'wounds', 'wreck', 'wreckage', 'wrecked'], dtype=object)"
      ]
     },
     "execution_count": 13,
     "metadata": {},
     "output_type": "execute_result"
    }
   ],
   "source": [
    "print(\"Length\", len(df['keyword'].unique()))\n",
    "df['keyword'].unique()"
   ]
  },
  {
   "cell_type": "code",
   "execution_count": 14,
   "id": "edaf6a27",
   "metadata": {
    "execution": {
     "iopub.execute_input": "2025-02-26T10:38:44.453752Z",
     "iopub.status.busy": "2025-02-26T10:38:44.453320Z",
     "iopub.status.idle": "2025-02-26T10:38:44.461422Z",
     "shell.execute_reply": "2025-02-26T10:38:44.460331Z"
    },
    "papermill": {
     "duration": 0.019945,
     "end_time": "2025-02-26T10:38:44.463060",
     "exception": false,
     "start_time": "2025-02-26T10:38:44.443115",
     "status": "completed"
    },
    "tags": []
   },
   "outputs": [
    {
     "name": "stdout",
     "output_type": "stream",
     "text": [
      "[nan 'Birmingham' 'Est. September 2012 - Bristol' ... 'Vancouver, Canada'\n",
      " 'London ' 'Lincoln']\n"
     ]
    },
    {
     "data": {
      "text/plain": [
       "3342"
      ]
     },
     "execution_count": 14,
     "metadata": {},
     "output_type": "execute_result"
    }
   ],
   "source": [
    "print(df['location'].unique())\n",
    "len(df['location'].unique())"
   ]
  },
  {
   "cell_type": "markdown",
   "id": "cbbf6ca8",
   "metadata": {},
   "source": [
    "### 2.5 Dropping/Imputing Unnecessary or Missing Data\n",
    "\n",
    "We’ll drop the `id` and `location` columns from the training set. For the test set, we’ll also drop `location`. Missing `keyword` entries get filled with an empty string."
   ]
  },
  {
   "cell_type": "code",
   "execution_count": 15,
   "id": "2bed3034",
   "metadata": {
    "execution": {
     "iopub.execute_input": "2025-02-26T10:38:44.482397Z",
     "iopub.status.busy": "2025-02-26T10:38:44.482024Z",
     "iopub.status.idle": "2025-02-26T10:38:44.490250Z",
     "shell.execute_reply": "2025-02-26T10:38:44.489269Z"
    },
    "papermill": {
     "duration": 0.019862,
     "end_time": "2025-02-26T10:38:44.491903",
     "exception": false,
     "start_time": "2025-02-26T10:38:44.472041",
     "status": "completed"
    },
    "tags": []
   },
   "outputs": [],
   "source": [
    "df.drop(columns=['id', 'location'], inplace=True, axis=1)\n",
    "df_test.drop(columns=['location'], inplace=True)"
   ]
  },
  {
   "cell_type": "code",
   "execution_count": 16,
   "id": "d325ab2a",
   "metadata": {
    "execution": {
     "iopub.execute_input": "2025-02-26T10:38:44.511243Z",
     "iopub.status.busy": "2025-02-26T10:38:44.510879Z",
     "iopub.status.idle": "2025-02-26T10:38:44.519892Z",
     "shell.execute_reply": "2025-02-26T10:38:44.518665Z"
    },
    "papermill": {
     "duration": 0.02092,
     "end_time": "2025-02-26T10:38:44.521846",
     "exception": false,
     "start_time": "2025-02-26T10:38:44.500926",
     "status": "completed"
    },
    "tags": []
   },
   "outputs": [],
   "source": [
    "df.dropna(inplace=True)\n",
    "df_test.fillna({\"keyword\": \"\"}, inplace=True)"
   ]
  },
  {
   "cell_type": "code",
   "execution_count": 17,
   "id": "1d074ce1",
   "metadata": {
    "execution": {
     "iopub.execute_input": "2025-02-26T10:38:44.540872Z",
     "iopub.status.busy": "2025-02-26T10:38:44.540443Z",
     "iopub.status.idle": "2025-02-26T10:38:44.553427Z",
     "shell.execute_reply": "2025-02-26T10:38:44.552389Z"
    },
    "papermill": {
     "duration": 0.024261,
     "end_time": "2025-02-26T10:38:44.555070",
     "exception": false,
     "start_time": "2025-02-26T10:38:44.530809",
     "status": "completed"
    },
    "tags": []
   },
   "outputs": [
    {
     "name": "stdout",
     "output_type": "stream",
     "text": [
      "Null values check:\n",
      "keyword    0\n",
      "text       0\n",
      "target     0\n",
      "dtype: int64\n",
      "--------------------------\n",
      "rows and columns:\n",
      "(7552, 3)\n",
      "---------------------------\n",
      "---------------------------\n",
      "---------------------------\n",
      "Null values check:\n",
      "keyword    0\n",
      "text       0\n",
      "target     0\n",
      "dtype: int64\n",
      "--------------------------\n",
      "rows and columns:\n",
      "(7552, 3)\n"
     ]
    }
   ],
   "source": [
    "print(\"Null values check:\")\n",
    "print(df.isna().sum())\n",
    "\n",
    "print(\"--------------------------\")\n",
    "\n",
    "print(\"rows and columns:\")\n",
    "print(df.shape)\n",
    "\n",
    "print(\"---------------------------\")\n",
    "print(\"---------------------------\")\n",
    "print(\"---------------------------\")\n",
    "\n",
    "\n",
    "print(\"Null values check:\")\n",
    "print(df.isna().sum())\n",
    "\n",
    "print(\"--------------------------\")\n",
    "\n",
    "print(\"rows and columns:\")\n",
    "print(df.shape)\n",
    "\n"
   ]
  },
  {
   "cell_type": "code",
   "execution_count": 18,
   "id": "2199a836",
   "metadata": {
    "execution": {
     "iopub.execute_input": "2025-02-26T10:38:44.574307Z",
     "iopub.status.busy": "2025-02-26T10:38:44.573954Z",
     "iopub.status.idle": "2025-02-26T10:38:44.584606Z",
     "shell.execute_reply": "2025-02-26T10:38:44.583442Z"
    },
    "papermill": {
     "duration": 0.022096,
     "end_time": "2025-02-26T10:38:44.586261",
     "exception": false,
     "start_time": "2025-02-26T10:38:44.564165",
     "status": "completed"
    },
    "tags": []
   },
   "outputs": [
    {
     "name": "stdout",
     "output_type": "stream",
     "text": [
      "<class 'pandas.core.frame.DataFrame'>\n",
      "Index: 7552 entries, 31 to 7582\n",
      "Data columns (total 3 columns):\n",
      " #   Column   Non-Null Count  Dtype \n",
      "---  ------   --------------  ----- \n",
      " 0   keyword  7552 non-null   object\n",
      " 1   text     7552 non-null   object\n",
      " 2   target   7552 non-null   int64 \n",
      "dtypes: int64(1), object(2)\n",
      "memory usage: 236.0+ KB\n"
     ]
    }
   ],
   "source": [
    "df.info()\n"
   ]
  },
  {
   "cell_type": "markdown",
   "id": "5bd29e7e",
   "metadata": {},
   "source": [
    "## 3. Model Architecture\n",
    "\n",
    "### 3.1 NLP Preprocessing\n",
    "\n",
    "To convert text into numerical form, we use **TF-IDF** (Term Frequency–Inverse Document Frequency) after cleaning, tokenizing, and removing stopwords.\n",
    "\n",
    "**Steps**:\n",
    "1. **Remove URLs, punctuation, etc.**\n",
    "2. **Lowercase and tokenize**.\n",
    "3. **Remove stopwords**.\n",
    "4. **Stem words** to reduce them to a root form."
   ]
  },
  {
   "cell_type": "code",
   "execution_count": null,
   "id": "6c87d999",
   "metadata": {
    "execution": {
     "iopub.execute_input": "2025-02-26T10:38:44.606185Z",
     "iopub.status.busy": "2025-02-26T10:38:44.605806Z",
     "iopub.status.idle": "2025-02-26T10:38:44.611660Z",
     "shell.execute_reply": "2025-02-26T10:38:44.610670Z"
    },
    "papermill": {
     "duration": 0.017927,
     "end_time": "2025-02-26T10:38:44.613416",
     "exception": false,
     "start_time": "2025-02-26T10:38:44.595489",
     "status": "completed"
    },
    "tags": []
   },
   "outputs": [],
   "source": [
    "def remove_stop_words(sentence):\n",
    "    # get stop words\n",
    "    stop_words = set(stopwords.words('english'))\n",
    "    stemmer = nltk.PorterStemmer()\n",
    "\n",
    "    # Remove URLs\n",
    "    sentence = re.sub(r'https?://\\S+|www\\.\\S+', '', sentence)\n",
    "    # Remove punctuation/special characters\n",
    "    sentence = re.sub(r'[^\\w\\s]', '', sentence)\n",
    "\n",
    "    # Tokenize sentence and remove stop words\n",
    "    words = sentence.lower().split()\n",
    "    filtered_words = [stemmer.stem(word) for word in words if word.lower() not in stop_words]\n",
    "    return ' '.join(filtered_words)"
   ]
  },
  {
   "cell_type": "code",
   "execution_count": 20,
   "id": "722e47ae",
   "metadata": {
    "execution": {
     "iopub.execute_input": "2025-02-26T10:38:44.634772Z",
     "iopub.status.busy": "2025-02-26T10:38:44.634347Z",
     "iopub.status.idle": "2025-02-26T10:38:44.644080Z",
     "shell.execute_reply": "2025-02-26T10:38:44.642770Z"
    },
    "papermill": {
     "duration": 0.023044,
     "end_time": "2025-02-26T10:38:44.646006",
     "exception": false,
     "start_time": "2025-02-26T10:38:44.622962",
     "status": "completed"
    },
    "tags": []
   },
   "outputs": [
    {
     "name": "stdout",
     "output_type": "stream",
     "text": [
      "Before:\n",
      "On plus side LOOK AT THE SKY LAST NIGHT IT WAS ABLAZE http://t.co/qqsmshaJ3N\n",
      "After:\n",
      "plu side look sky last night ablaz\n"
     ]
    }
   ],
   "source": [
    "print(\"Before:\")\n",
    "print(df['text'].iloc[4])\n",
    "\n",
    "print(\"After:\")\n",
    "print(remove_stop_words(df['text'].iloc[4]))"
   ]
  },
  {
   "cell_type": "markdown",
   "id": "27133d9d",
   "metadata": {},
   "source": [
    "Apply text cleaning to the entire training and test sets."
   ]
  },
  {
   "cell_type": "code",
   "execution_count": 21,
   "id": "022b3755",
   "metadata": {
    "execution": {
     "iopub.execute_input": "2025-02-26T10:38:44.668918Z",
     "iopub.status.busy": "2025-02-26T10:38:44.668525Z",
     "iopub.status.idle": "2025-02-26T10:38:48.852890Z",
     "shell.execute_reply": "2025-02-26T10:38:48.851782Z"
    },
    "papermill": {
     "duration": 4.198987,
     "end_time": "2025-02-26T10:38:48.854986",
     "exception": false,
     "start_time": "2025-02-26T10:38:44.655999",
     "status": "completed"
    },
    "tags": []
   },
   "outputs": [],
   "source": [
    "df['text'] = df['text'].apply(remove_stop_words)\n",
    "df_test['text'] = df_test['text'].apply(remove_stop_words)"
   ]
  },
  {
   "cell_type": "code",
   "execution_count": null,
   "id": "b516b29d",
   "metadata": {
    "execution": {
     "iopub.execute_input": "2025-02-26T10:38:48.875173Z",
     "iopub.status.busy": "2025-02-26T10:38:48.874785Z",
     "iopub.status.idle": "2025-02-26T10:38:48.881077Z",
     "shell.execute_reply": "2025-02-26T10:38:48.879902Z"
    },
    "papermill": {
     "duration": 0.018205,
     "end_time": "2025-02-26T10:38:48.882925",
     "exception": false,
     "start_time": "2025-02-26T10:38:48.864720",
     "status": "completed"
    },
    "tags": []
   },
   "outputs": [
    {
     "name": "stdout",
     "output_type": "stream",
     "text": [
      "length before stemm :  221\n"
     ]
    }
   ],
   "source": [
    "print(\"length before stemm : \", len(df['keyword'].unique()))"
   ]
  },
  {
   "cell_type": "markdown",
   "id": "61caabc9",
   "metadata": {},
   "source": [
    "### 3.2 Keyword Stemming"
   ]
  },
  {
   "cell_type": "code",
   "execution_count": 23,
   "id": "ded56d25",
   "metadata": {
    "execution": {
     "iopub.execute_input": "2025-02-26T10:38:48.902542Z",
     "iopub.status.busy": "2025-02-26T10:38:48.902157Z",
     "iopub.status.idle": "2025-02-26T10:38:48.907207Z",
     "shell.execute_reply": "2025-02-26T10:38:48.906098Z"
    },
    "papermill": {
     "duration": 0.016964,
     "end_time": "2025-02-26T10:38:48.909117",
     "exception": false,
     "start_time": "2025-02-26T10:38:48.892153",
     "status": "completed"
    },
    "tags": []
   },
   "outputs": [],
   "source": [
    "def stemming(sentence):\n",
    "    stemmer = PorterStemmer()\n",
    "    return ' '.join([stemmer.stem(word) for word in sentence.replace(\"%20\", \" \").split()])"
   ]
  },
  {
   "cell_type": "code",
   "execution_count": 24,
   "id": "9256db8a",
   "metadata": {
    "execution": {
     "iopub.execute_input": "2025-02-26T10:38:48.929465Z",
     "iopub.status.busy": "2025-02-26T10:38:48.929065Z",
     "iopub.status.idle": "2025-02-26T10:38:48.938830Z",
     "shell.execute_reply": "2025-02-26T10:38:48.937778Z"
    },
    "papermill": {
     "duration": 0.021834,
     "end_time": "2025-02-26T10:38:48.940496",
     "exception": false,
     "start_time": "2025-02-26T10:38:48.918662",
     "status": "completed"
    },
    "tags": []
   },
   "outputs": [
    {
     "name": "stdout",
     "output_type": "stream",
     "text": [
      "length After stemm :  221\n",
      "-------------------------------\n"
     ]
    },
    {
     "data": {
      "text/plain": [
       "array(['ablaze', 'accident', 'aftershock', 'airplane%20accident',\n",
       "       'ambulance', 'annihilated', 'annihilation', 'apocalypse',\n",
       "       'armageddon', 'army', 'arson', 'arsonist', 'attack', 'attacked',\n",
       "       'avalanche', 'battle', 'bioterror', 'bioterrorism', 'blaze',\n",
       "       'blazing', 'bleeding', 'blew%20up', 'blight', 'blizzard', 'blood',\n",
       "       'bloody', 'blown%20up', 'body%20bag', 'body%20bagging',\n",
       "       'body%20bags', 'bomb', 'bombed', 'bombing', 'bridge%20collapse',\n",
       "       'buildings%20burning', 'buildings%20on%20fire', 'burned',\n",
       "       'burning', 'burning%20buildings', 'bush%20fires', 'casualties',\n",
       "       'casualty', 'catastrophe', 'catastrophic', 'chemical%20emergency',\n",
       "       'cliff%20fall', 'collapse', 'collapsed', 'collide', 'collided',\n",
       "       'collision', 'crash', 'crashed', 'crush', 'crushed', 'curfew',\n",
       "       'cyclone', 'damage', 'danger', 'dead', 'death', 'deaths', 'debris',\n",
       "       'deluge', 'deluged', 'demolish', 'demolished', 'demolition',\n",
       "       'derail', 'derailed', 'derailment', 'desolate', 'desolation',\n",
       "       'destroy', 'destroyed', 'destruction', 'detonate', 'detonation',\n",
       "       'devastated', 'devastation', 'disaster', 'displaced', 'drought',\n",
       "       'drown', 'drowned', 'drowning', 'dust%20storm', 'earthquake',\n",
       "       'electrocute', 'electrocuted', 'emergency', 'emergency%20plan',\n",
       "       'emergency%20services', 'engulfed', 'epicentre', 'evacuate',\n",
       "       'evacuated', 'evacuation', 'explode', 'exploded', 'explosion',\n",
       "       'eyewitness', 'famine', 'fatal', 'fatalities', 'fatality', 'fear',\n",
       "       'fire', 'fire%20truck', 'first%20responders', 'flames',\n",
       "       'flattened', 'flood', 'flooding', 'floods', 'forest%20fire',\n",
       "       'forest%20fires', 'hail', 'hailstorm', 'harm', 'hazard',\n",
       "       'hazardous', 'heat%20wave', 'hellfire', 'hijack', 'hijacker',\n",
       "       'hijacking', 'hostage', 'hostages', 'hurricane', 'injured',\n",
       "       'injuries', 'injury', 'inundated', 'inundation', 'landslide',\n",
       "       'lava', 'lightning', 'loud%20bang', 'mass%20murder',\n",
       "       'mass%20murderer', 'massacre', 'mayhem', 'meltdown', 'military',\n",
       "       'mudslide', 'natural%20disaster', 'nuclear%20disaster',\n",
       "       'nuclear%20reactor', 'obliterate', 'obliterated', 'obliteration',\n",
       "       'oil%20spill', 'outbreak', 'pandemonium', 'panic', 'panicking',\n",
       "       'police', 'quarantine', 'quarantined', 'radiation%20emergency',\n",
       "       'rainstorm', 'razed', 'refugees', 'rescue', 'rescued', 'rescuers',\n",
       "       'riot', 'rioting', 'rubble', 'ruin', 'sandstorm', 'screamed',\n",
       "       'screaming', 'screams', 'seismic', 'sinkhole', 'sinking', 'siren',\n",
       "       'sirens', 'smoke', 'snowstorm', 'storm', 'stretcher',\n",
       "       'structural%20failure', 'suicide%20bomb', 'suicide%20bomber',\n",
       "       'suicide%20bombing', 'sunk', 'survive', 'survived', 'survivors',\n",
       "       'terrorism', 'terrorist', 'threat', 'thunder', 'thunderstorm',\n",
       "       'tornado', 'tragedy', 'trapped', 'trauma', 'traumatised',\n",
       "       'trouble', 'tsunami', 'twister', 'typhoon', 'upheaval',\n",
       "       'violent%20storm', 'volcano', 'war%20zone', 'weapon', 'weapons',\n",
       "       'whirlwind', 'wild%20fires', 'wildfire', 'windstorm', 'wounded',\n",
       "       'wounds', 'wreck', 'wreckage', 'wrecked'], dtype=object)"
      ]
     },
     "execution_count": 24,
     "metadata": {},
     "output_type": "execute_result"
    }
   ],
   "source": [
    "print(\"length After stemm : \", len(df['keyword'].unique()))\n",
    "print(\"-------------------------------\")\n",
    "df['keyword'].unique()"
   ]
  },
  {
   "cell_type": "code",
   "execution_count": 25,
   "id": "eeb7ced8",
   "metadata": {
    "execution": {
     "iopub.execute_input": "2025-02-26T10:38:48.960349Z",
     "iopub.status.busy": "2025-02-26T10:38:48.960007Z",
     "iopub.status.idle": "2025-02-26T10:38:49.281040Z",
     "shell.execute_reply": "2025-02-26T10:38:49.279503Z"
    },
    "papermill": {
     "duration": 0.333233,
     "end_time": "2025-02-26T10:38:49.283090",
     "exception": false,
     "start_time": "2025-02-26T10:38:48.949857",
     "status": "completed"
    },
    "tags": []
   },
   "outputs": [],
   "source": [
    "df['keyword'] = df['keyword'].apply(stemming)\n",
    "df_test['keyword'] = df_test['keyword'].apply(stemming)"
   ]
  },
  {
   "cell_type": "code",
   "execution_count": 26,
   "id": "7155b729",
   "metadata": {
    "execution": {
     "iopub.execute_input": "2025-02-26T10:38:49.304609Z",
     "iopub.status.busy": "2025-02-26T10:38:49.304179Z",
     "iopub.status.idle": "2025-02-26T10:38:49.314901Z",
     "shell.execute_reply": "2025-02-26T10:38:49.313780Z"
    },
    "papermill": {
     "duration": 0.023716,
     "end_time": "2025-02-26T10:38:49.316855",
     "exception": false,
     "start_time": "2025-02-26T10:38:49.293139",
     "status": "completed"
    },
    "tags": []
   },
   "outputs": [
    {
     "name": "stdout",
     "output_type": "stream",
     "text": [
      "166\n",
      "-------------------------------\n"
     ]
    },
    {
     "data": {
      "text/plain": [
       "array(['ablaz', 'accid', 'aftershock', 'airplan accid', 'ambul',\n",
       "       'annihil', 'apocalyps', 'armageddon', 'armi', 'arson', 'arsonist',\n",
       "       'attack', 'avalanch', 'battl', 'bioterror', 'blaze', 'bleed',\n",
       "       'blew up', 'blight', 'blizzard', 'blood', 'bloodi', 'blown up',\n",
       "       'bodi bag', 'bomb', 'bridg collaps', 'build burn', 'build on fire',\n",
       "       'burn', 'burn build', 'bush fire', 'casualti', 'catastroph',\n",
       "       'chemic emerg', 'cliff fall', 'collaps', 'collid', 'collis',\n",
       "       'crash', 'crush', 'curfew', 'cyclon', 'damag', 'danger', 'dead',\n",
       "       'death', 'debri', 'delug', 'demolish', 'demolit', 'derail',\n",
       "       'desol', 'destroy', 'destruct', 'deton', 'devast', 'disast',\n",
       "       'displac', 'drought', 'drown', 'dust storm', 'earthquak',\n",
       "       'electrocut', 'emerg', 'emerg plan', 'emerg servic', 'engulf',\n",
       "       'epicentr', 'evacu', 'explod', 'explos', 'eyewit', 'famin',\n",
       "       'fatal', 'fear', 'fire', 'fire truck', 'first respond', 'flame',\n",
       "       'flatten', 'flood', 'forest fire', 'hail', 'hailstorm', 'harm',\n",
       "       'hazard', 'heat wave', 'hellfir', 'hijack', 'hostag', 'hurrican',\n",
       "       'injur', 'injuri', 'inund', 'landslid', 'lava', 'lightn',\n",
       "       'loud bang', 'mass murder', 'massacr', 'mayhem', 'meltdown',\n",
       "       'militari', 'mudslid', 'natur disast', 'nuclear disast',\n",
       "       'nuclear reactor', 'obliter', 'oil spill', 'outbreak',\n",
       "       'pandemonium', 'panic', 'panick', 'polic', 'quarantin',\n",
       "       'radiat emerg', 'rainstorm', 'raze', 'refuge', 'rescu', 'rescuer',\n",
       "       'riot', 'rubbl', 'ruin', 'sandstorm', 'scream', 'seismic',\n",
       "       'sinkhol', 'sink', 'siren', 'smoke', 'snowstorm', 'storm',\n",
       "       'stretcher', 'structur failur', 'suicid bomb', 'suicid bomber',\n",
       "       'sunk', 'surviv', 'survivor', 'terror', 'terrorist', 'threat',\n",
       "       'thunder', 'thunderstorm', 'tornado', 'tragedi', 'trap', 'trauma',\n",
       "       'traumatis', 'troubl', 'tsunami', 'twister', 'typhoon', 'upheav',\n",
       "       'violent storm', 'volcano', 'war zone', 'weapon', 'whirlwind',\n",
       "       'wild fire', 'wildfir', 'windstorm', 'wound', 'wreck', 'wreckag'],\n",
       "      dtype=object)"
      ]
     },
     "execution_count": 26,
     "metadata": {},
     "output_type": "execute_result"
    }
   ],
   "source": [
    "print(len(df['keyword'].unique()))\n",
    "print(\"-------------------------------\")\n",
    "df['keyword'].unique()"
   ]
  },
  {
   "cell_type": "markdown",
   "id": "3d23c03c",
   "metadata": {},
   "source": [
    "### 3.3 TF-IDF Vectorization\n",
    "\n",
    "We'll vectorize both the `text` column and `keyword` column, then combine the resulting vectors."
   ]
  },
  {
   "cell_type": "code",
   "execution_count": 27,
   "id": "911d2fec",
   "metadata": {
    "execution": {
     "iopub.execute_input": "2025-02-26T10:38:49.337565Z",
     "iopub.status.busy": "2025-02-26T10:38:49.337149Z",
     "iopub.status.idle": "2025-02-26T10:38:49.553914Z",
     "shell.execute_reply": "2025-02-26T10:38:49.552634Z"
    },
    "papermill": {
     "duration": 0.229264,
     "end_time": "2025-02-26T10:38:49.555917",
     "exception": false,
     "start_time": "2025-02-26T10:38:49.326653",
     "status": "completed"
    },
    "tags": []
   },
   "outputs": [],
   "source": [
    "vectorizer = TfidfVectorizer()\n",
    "X_tweet = vectorizer.fit_transform(df['text'])\n",
    "X_test_tweet = vectorizer.transform(df_test['text'])\n",
    "\n",
    "X_keyword = vectorizer.fit_transform(df['keyword'])\n",
    "X_test_keyword = vectorizer.transform(df_test['keyword'])"
   ]
  },
  {
   "cell_type": "code",
   "execution_count": 28,
   "id": "d0a3d702",
   "metadata": {
    "execution": {
     "iopub.execute_input": "2025-02-26T10:38:49.576594Z",
     "iopub.status.busy": "2025-02-26T10:38:49.576167Z",
     "iopub.status.idle": "2025-02-26T10:38:49.584812Z",
     "shell.execute_reply": "2025-02-26T10:38:49.583747Z"
    },
    "papermill": {
     "duration": 0.021351,
     "end_time": "2025-02-26T10:38:49.586877",
     "exception": false,
     "start_time": "2025-02-26T10:38:49.565526",
     "status": "completed"
    },
    "tags": []
   },
   "outputs": [],
   "source": [
    "X = hstack([X_tweet, X_keyword]) # All training data\n",
    "X_final_test = hstack([X_test_tweet, X_test_keyword]) # All test data\n",
    "\n",
    "y = df['target']"
   ]
  },
  {
   "cell_type": "markdown",
   "id": "b37c07f8",
   "metadata": {},
   "source": [
    "### 3.4 Train/Test Split\n",
    "\n",
    "We'll split the data into training and validation sets for model evaluation."
   ]
  },
  {
   "cell_type": "code",
   "execution_count": 29,
   "id": "1c1250b4",
   "metadata": {
    "execution": {
     "iopub.execute_input": "2025-02-26T10:38:49.607697Z",
     "iopub.status.busy": "2025-02-26T10:38:49.607264Z",
     "iopub.status.idle": "2025-02-26T10:38:49.615676Z",
     "shell.execute_reply": "2025-02-26T10:38:49.614403Z"
    },
    "papermill": {
     "duration": 0.021242,
     "end_time": "2025-02-26T10:38:49.617957",
     "exception": false,
     "start_time": "2025-02-26T10:38:49.596715",
     "status": "completed"
    },
    "tags": []
   },
   "outputs": [],
   "source": [
    "X_train, X_test, y_train, y_test = train_test_split(X, y, test_size=0.2, random_state=42)"
   ]
  },
  {
   "cell_type": "markdown",
   "id": "7740d5f4",
   "metadata": {},
   "source": [
    "### 3.5 Model Selection\n",
    "\n",
    "We'll test multiple models as baselines:\n",
    "1. **SVM (Support Vector Machine)**\n",
    "2. **XGBoost**\n",
    "3. **Random Forest**\n",
    "4. **Logistic Regression**"
   ]
  },
  {
   "cell_type": "code",
   "execution_count": 30,
   "id": "445c80ae",
   "metadata": {
    "execution": {
     "iopub.execute_input": "2025-02-26T10:38:49.638576Z",
     "iopub.status.busy": "2025-02-26T10:38:49.638151Z",
     "iopub.status.idle": "2025-02-26T10:38:49.643286Z",
     "shell.execute_reply": "2025-02-26T10:38:49.642111Z"
    },
    "papermill": {
     "duration": 0.017359,
     "end_time": "2025-02-26T10:38:49.645120",
     "exception": false,
     "start_time": "2025-02-26T10:38:49.627761",
     "status": "completed"
    },
    "tags": []
   },
   "outputs": [],
   "source": [
    "models = {\n",
    "    \"SVM\": SVC(kernel='linear', C=1.0),\n",
    "    \"XGBoost\": XGBClassifier(use_label_encoder=False, eval_metric='logloss'),\n",
    "    \"Random Forest\": RandomForestClassifier(n_estimators=100),\n",
    "    \"Logistic Regression\": LogisticRegression(max_iter=1000)\n",
    "}"
   ]
  },
  {
   "cell_type": "markdown",
   "id": "873d6df9",
   "metadata": {},
   "source": [
    "## 4. Results and Analysis\n",
    "\n",
    "We train each model, evaluate on the validation set, and compare accuracies.\n"
   ]
  },
  {
   "cell_type": "code",
   "execution_count": 31,
   "id": "65c4fcf6",
   "metadata": {
    "execution": {
     "iopub.execute_input": "2025-02-26T10:38:49.665534Z",
     "iopub.status.busy": "2025-02-26T10:38:49.665128Z",
     "iopub.status.idle": "2025-02-26T10:39:17.386117Z",
     "shell.execute_reply": "2025-02-26T10:39:17.384989Z"
    },
    "papermill": {
     "duration": 27.733657,
     "end_time": "2025-02-26T10:39:17.388367",
     "exception": false,
     "start_time": "2025-02-26T10:38:49.654710",
     "status": "completed"
    },
    "tags": []
   },
   "outputs": [
    {
     "name": "stdout",
     "output_type": "stream",
     "text": [
      "SVM Accuracy: 0.8101\n",
      "XGBoost Accuracy: 0.7756\n",
      "Random Forest Accuracy: 0.7915\n",
      "Logistic Regression Accuracy: 0.7922\n"
     ]
    }
   ],
   "source": [
    "accuracies = {}\n",
    "for name, model in models.items():\n",
    "    model.fit(X_train, y_train)\n",
    "    y_pred = model.predict(X_test)\n",
    "    acc = accuracy_score(y_test, y_pred)\n",
    "    accuracies[name] = acc\n",
    "    print(f\"{name} Accuracy: {acc:.4f}\")"
   ]
  },
  {
   "cell_type": "code",
   "execution_count": 32,
   "id": "8010c67f",
   "metadata": {
    "execution": {
     "iopub.execute_input": "2025-02-26T10:39:17.410305Z",
     "iopub.status.busy": "2025-02-26T10:39:17.409923Z",
     "iopub.status.idle": "2025-02-26T10:39:17.598599Z",
     "shell.execute_reply": "2025-02-26T10:39:17.597371Z"
    },
    "papermill": {
     "duration": 0.201873,
     "end_time": "2025-02-26T10:39:17.600593",
     "exception": false,
     "start_time": "2025-02-26T10:39:17.398720",
     "status": "completed"
    },
    "tags": []
   },
   "outputs": [
    {
     "data": {
      "image/png": "[encoded data removed]",
      "text/plain": [
       "<Figure size 800x500 with 1 Axes>"
      ]
     },
     "metadata": {},
     "output_type": "display_data"
    }
   ],
   "source": [
    "# Plot results\n",
    "plt.figure(figsize=(8, 5))\n",
    "plt.bar(accuracies.keys(), accuracies.values(), color=['blue', 'orange', 'green', 'red'])\n",
    "plt.xlabel(\"Models\")\n",
    "plt.ylabel(\"Accuracy\")\n",
    "plt.title(\"Model Accuracy Comparison\")\n",
    "plt.ylim(0, 1)\n",
    "plt.grid(axis='y', linestyle='--', alpha=0.7)\n",
    "plt.show()"
   ]
  },
  {
   "cell_type": "markdown",
   "id": "235c4704",
   "metadata": {},
   "source": [
    "### 4.1 Analysis of What Worked/Didn’t Work\n",
    "\n",
    "- **SVM** often performs well on text data, especially with TF-IDF features.\n",
    "- **XGBoost**, **Random Forest**, and **Logistic Regression** can also be viable. Further hyperparameter tuning could improve these results.\n",
    "- Data preprocessing (stopwords removal, stemming) helps reduce noise."
   ]
  },
  {
   "cell_type": "markdown",
   "id": "e4b05b60",
   "metadata": {},
   "source": [
    "## 5. Conclusion\n",
    "\n",
    "**Key Takeaways**:\n",
    "- **Text cleaning** and **TF-IDF** are strong baselines for NLP tasks.\n",
    "- **SVM** can yield competitive results with relatively little tuning.\n",
    "- **Other models** may match or exceed SVM given careful hyperparameter optimization.\n",
    "- **Future Improvements**:\n",
    "  - Use advanced embeddings (e.g., GloVe, Word2Vec, BERT).\n",
    "  - Explore hyperparameter tuning (grid search, random search, or Bayesian optimization).\n",
    "  - Feature engineering, e.g., adding sentiment, punctuation counts, etc.\n",
    "\n",
    "---\n",
    "## 6. Generating Final Predictions\n",
    "\n",
    "We’ll retrain the best model on **all** training data and predict on the test set."
   ]
  },
  {
   "cell_type": "code",
   "execution_count": 33,
   "id": "c44828c9",
   "metadata": {
    "execution": {
     "iopub.execute_input": "2025-02-26T10:39:17.623315Z",
     "iopub.status.busy": "2025-02-26T10:39:17.622926Z",
     "iopub.status.idle": "2025-02-26T10:39:24.469508Z",
     "shell.execute_reply": "2025-02-26T10:39:24.468160Z"
    },
    "papermill": {
     "duration": 6.859803,
     "end_time": "2025-02-26T10:39:24.471499",
     "exception": false,
     "start_time": "2025-02-26T10:39:17.611696",
     "status": "completed"
    },
    "tags": []
   },
   "outputs": [],
   "source": [
    "final_model = SVC(kernel='linear', C=1.0)\n",
    "final_model.fit(X, y)\n",
    "df_test['target'] = final_model.predict(X_final_test)"
   ]
  },
  {
   "cell_type": "code",
   "execution_count": 34,
   "id": "b1f8e533",
   "metadata": {
    "execution": {
     "iopub.execute_input": "2025-02-26T10:39:24.494789Z",
     "iopub.status.busy": "2025-02-26T10:39:24.494329Z",
     "iopub.status.idle": "2025-02-26T10:39:24.510045Z",
     "shell.execute_reply": "2025-02-26T10:39:24.508710Z"
    },
    "papermill": {
     "duration": 0.030048,
     "end_time": "2025-02-26T10:39:24.512517",
     "exception": false,
     "start_time": "2025-02-26T10:39:24.482469",
     "status": "completed"
    },
    "tags": []
   },
   "outputs": [],
   "source": [
    "df_test[['id', 'target']].to_csv('submission.csv', index=False)"
   ]
  },
  {
   "cell_type": "markdown",
   "id": "62ea6ff0",
   "metadata": {},
   "source": [
    "## 7. References\n",
    "\n",
    "1. **Kaggle Competition**: [Disaster Tweets NLP Getting Started](https://www.kaggle.com/c/nlp-getting-started/overview)\n",
    "2. **NLTK Documentation**: [https://www.nltk.org/](https://www.nltk.org/)\n",
    "3. **TF-IDF Explanation**: [Scikit-learn TF-IDF Vectorizer Documentation](https://scikit-learn.org/stable/modules/generated/sklearn.feature_extraction.text.TfidfVectorizer.html)\n",
    "4. **XGBoost Documentation**: [https://xgboost.readthedocs.io/](https://xgboost.readthedocs.io/)\n",
    "5. Kaggle Tutorials and Discussion Boards for text classification and starter notebooks."
   ]
  },
  {
   "cell_type": "markdown",
   "id": "c58ad81d",
   "metadata": {},
   "source": []
  }
 ],
 "metadata": {
  "kaggle": {
   "accelerator": "none",
   "dataSources": [
    {
     "databundleVersionId": 869809,
     "sourceId": 17777,
     "sourceType": "competition"
    }
   ],
   "dockerImageVersionId": 30918,
   "isGpuEnabled": false,
   "isInternetEnabled": true,
   "language": "python",
   "sourceType": "notebook"
  },
  "kernelspec": {
   "display_name": "Python 3",
   "language": "python",
   "name": "python3"
  },
  "language_info": {
   "codemirror_mode": {
    "name": "ipython",
    "version": 3
   },
   "file_extension": ".py",
   "mimetype": "text/x-python",
   "name": "python",
   "nbconvert_exporter": "python",
   "pygments_lexer": "ipython3",
   "version": "3.9.6"
  },
  "papermill": {
   "default_parameters": {},
   "duration": 48.951684,
   "end_time": "2025-02-26T10:39:25.346353",
   "environment_variables": {},
   "exception": null,
   "input_path": "__notebook__.ipynb",
   "output_path": "__notebook__.ipynb",
   "parameters": {},
   "start_time": "2025-02-26T10:38:36.394669",
   "version": "2.6.0"
  }
 },
 "nbformat": 4,
 "nbformat_minor": 5
}
